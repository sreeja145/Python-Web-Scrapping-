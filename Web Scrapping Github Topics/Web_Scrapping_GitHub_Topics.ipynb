{
 "cells": [
  {
   "cell_type": "code",
   "execution_count": 3,
   "id": "b055e7d5",
   "metadata": {},
   "outputs": [],
   "source": [
    "!pip install requests --upgrade --quiet\n",
    "!pip install beautifulsoup4 --upgrade --quiet\n",
    "import requests\n",
    "from bs4 import BeautifulSoup\n",
    "topic_url=\"https://github.com/topics\"\n",
    "def get_topic_page():\n",
    "    \n",
    "    # Download the topic page\n",
    "    response=requests.get(topic_url)\n",
    "    \n",
    "    # Check successful response\n",
    "    if response.status_code!=200:\n",
    "        raise Exception('Failed to load page {}'.format(topic_url))\n",
    "    \n",
    "    # Parse using BeautifulSoup\n",
    "    topic_doc=BeautifulSoup(response.text,'html.parser')\n",
    "    return topic_doc\n"
   ]
  },
  {
   "cell_type": "code",
   "execution_count": 4,
   "id": "ab6d1222",
   "metadata": {},
   "outputs": [],
   "source": [
    "doc=get_topic_page()"
   ]
  },
  {
   "cell_type": "code",
   "execution_count": 5,
   "id": "29d0ad93",
   "metadata": {},
   "outputs": [],
   "source": [
    "def get_topic_titles(doc):\n",
    "    select_p_class='f3 lh-condensed mb-0 mt-1 Link--primary'\n",
    "    topic_title_tags=doc.find_all('p',{'class':select_p_class})\n",
    "    topic_titles=[]\n",
    "    for tag in topic_title_tags:\n",
    "        topic_titles.append(tag.text)\n",
    "    return topic_titles"
   ]
  },
  {
   "cell_type": "code",
   "execution_count": 6,
   "id": "47e63acc",
   "metadata": {},
   "outputs": [],
   "source": [
    "titles=get_topic_titles(doc)"
   ]
  },
  {
   "cell_type": "code",
   "execution_count": 7,
   "id": "97411def",
   "metadata": {},
   "outputs": [
    {
     "data": {
      "text/plain": [
       "30"
      ]
     },
     "execution_count": 7,
     "metadata": {},
     "output_type": "execute_result"
    }
   ],
   "source": [
    "len(titles)"
   ]
  },
  {
   "cell_type": "code",
   "execution_count": 8,
   "id": "2826102d",
   "metadata": {},
   "outputs": [
    {
     "data": {
      "text/plain": [
       "['3D', 'Ajax', 'Algorithm', 'Amp', 'Android']"
      ]
     },
     "execution_count": 8,
     "metadata": {},
     "output_type": "execute_result"
    }
   ],
   "source": [
    "titles[:5]"
   ]
  },
  {
   "cell_type": "code",
   "execution_count": 9,
   "id": "74831a21",
   "metadata": {},
   "outputs": [],
   "source": [
    "# to get the description for each title\n",
    "def get_topic_descs(doc):\n",
    "    desc_selector='f5 color-fg-muted mb-0 mt-1'\n",
    "    topic_desc_tags=doc.find_all('p',{'class':desc_selector})\n",
    "    topic_desc=[]\n",
    "    for tag in topic_desc_tags:\n",
    "        topic_desc.append(tag.text.strip())\n",
    "    return topic_desc"
   ]
  },
  {
   "cell_type": "code",
   "execution_count": 10,
   "id": "f4941745",
   "metadata": {},
   "outputs": [],
   "source": [
    "descs=get_topic_descs(doc)"
   ]
  },
  {
   "cell_type": "code",
   "execution_count": 11,
   "id": "0c73c1af",
   "metadata": {},
   "outputs": [
    {
     "data": {
      "text/plain": [
       "30"
      ]
     },
     "execution_count": 11,
     "metadata": {},
     "output_type": "execute_result"
    }
   ],
   "source": [
    "len(descs)"
   ]
  },
  {
   "cell_type": "code",
   "execution_count": 12,
   "id": "58de260c",
   "metadata": {},
   "outputs": [
    {
     "data": {
      "text/plain": [
       "['3D modeling is the process of virtually developing the surface and structure of a 3D object.']"
      ]
     },
     "execution_count": 12,
     "metadata": {},
     "output_type": "execute_result"
    }
   ],
   "source": [
    "descs[:1]"
   ]
  },
  {
   "cell_type": "code",
   "execution_count": 13,
   "id": "30090191",
   "metadata": {},
   "outputs": [],
   "source": [
    "def get_topic_urls(doc):\n",
    "    topic_link_tags=doc.find_all('a',{'class':'no-underline flex-1 d-flex flex-column'})\n",
    "    topic_urls=[]\n",
    "    base_url='https://github.com'\n",
    "    for tag in topic_link_tags:\n",
    "        topic_urls.append(base_url+tag['href'])\n",
    "    return topic_urls\n"
   ]
  },
  {
   "cell_type": "code",
   "execution_count": 14,
   "id": "6c4f74fb",
   "metadata": {},
   "outputs": [],
   "source": [
    "urls=get_topic_urls(doc)"
   ]
  },
  {
   "cell_type": "code",
   "execution_count": 15,
   "id": "cc564165",
   "metadata": {},
   "outputs": [
    {
     "data": {
      "text/plain": [
       "30"
      ]
     },
     "execution_count": 15,
     "metadata": {},
     "output_type": "execute_result"
    }
   ],
   "source": [
    "len(urls)"
   ]
  },
  {
   "cell_type": "code",
   "execution_count": 16,
   "id": "37724741",
   "metadata": {},
   "outputs": [
    {
     "data": {
      "text/plain": [
       "['https://github.com/topics/3d']"
      ]
     },
     "execution_count": 16,
     "metadata": {},
     "output_type": "execute_result"
    }
   ],
   "source": [
    "urls[:1]"
   ]
  },
  {
   "cell_type": "markdown",
   "id": "1147b989",
   "metadata": {},
   "source": [
    "#### putting all this together as a single function"
   ]
  },
  {
   "cell_type": "code",
   "execution_count": 62,
   "id": "2b4a4ec8",
   "metadata": {},
   "outputs": [],
   "source": [
    "def scrape_topics():\n",
    "    topics_url = 'https://github.com/topics'\n",
    "    response = requests.get(topics_url)\n",
    "    if response.status_code != 200:\n",
    "        raise Exception('Failed to load page {}'.format(topic_url))\n",
    "    doc = BeautifulSoup(response.text, 'html.parser')\n",
    "    topics_dict={\n",
    "        'title':get_topic_titles(doc),\n",
    "        'description':get_topic_descs(doc),\n",
    "        'url':get_topic_urls(doc)\n",
    "    }\n",
    "    return pd.DataFrame(topics_dict)\n",
    "    "
   ]
  },
  {
   "cell_type": "markdown",
   "id": "5d0ca65d",
   "metadata": {},
   "source": [
    "#### Getting top 25 repositories from a topic page"
   ]
  },
  {
   "cell_type": "code",
   "execution_count": 18,
   "id": "9db1cdfc",
   "metadata": {},
   "outputs": [],
   "source": [
    "def get_topic_page(topic_url):\n",
    "    # Download the page\n",
    "    response=requests.get(topic_url)\n",
    "    # Check successful response\n",
    "    if response.status_code!=200:\n",
    "        raise Exception('Failed to load page {}'.format(topic_url))\n",
    "    topic_doc=BeautifulSoup(response.text,'html.parser')\n",
    "    return topic_doc\n"
   ]
  },
  {
   "cell_type": "code",
   "execution_count": 19,
   "id": "41dd825e",
   "metadata": {},
   "outputs": [],
   "source": [
    "docu=get_topic_page(\"https://github.com/topic/3d\")"
   ]
  },
  {
   "cell_type": "code",
   "execution_count": 20,
   "id": "e2417195",
   "metadata": {},
   "outputs": [],
   "source": [
    "def parse_star_count(stars_str):\n",
    "    stars_str=stars_str.strip()\n",
    "    if stars_str[-1]=='k':\n",
    "        return int(float(stars_str[:-1])*1000)\n",
    "    return int(stars_str)"
   ]
  },
  {
   "cell_type": "code",
   "execution_count": 67,
   "id": "d047b1bd",
   "metadata": {},
   "outputs": [],
   "source": [
    "def get_repo_info(h3_tag,star_tag):\n",
    "    base_url=\"https://github.com\"\n",
    "    a_tags=h3_tag.find_all('a')\n",
    "    username=a_tags[0].text.strip()\n",
    "    repo_name=a_tags[1].text.strip()\n",
    "    repo_url=base_url+a_tags[1]['href']\n",
    "    stars=parse_star_count(star_tag.text.strip())\n",
    "    return username,repo_name,stars,repo_url"
   ]
  },
  {
   "cell_type": "code",
   "execution_count": 22,
   "id": "dca7f504",
   "metadata": {},
   "outputs": [],
   "source": [
    "import pandas as pd"
   ]
  },
  {
   "cell_type": "code",
   "execution_count": 57,
   "id": "20ed3aad",
   "metadata": {},
   "outputs": [],
   "source": [
    "def get_topic_repos(topic_doc):\n",
    "    h3_selection_class='f3 color-fg-muted text-normal lh-condensed'\n",
    "    repos_tags=topic_doc.find_all('h3',{'class':h3_selection_class})\n",
    "    #get star tags\n",
    "    star_tags=topic_doc.find_all('span',{'class':'Counter js-social-count'})\n",
    "    topic_repos_dict={'username':[],\n",
    "                 'repo_name':[],\n",
    "                 'stars':[],\n",
    "                 'repo_url':[]}\n",
    "    for i in range(len(repos_tags)):\n",
    "        repo_info=get_repo_info(repos_tags[i],star_tags[i])\n",
    "        topic_repos_dict['username'].append(repo_info[0])\n",
    "        topic_repos_dict['repo_name'].append(repo_info[1])\n",
    "        topic_repos_dict['stars'].append(repo_info[2])\n",
    "        topic_repos_dict['repo_url'].append(repo_info[3])\n",
    "    return pd.DataFrame(topic_repos_dict)\n"
   ]
  },
  {
   "cell_type": "code",
   "execution_count": 58,
   "id": "e182b2d7",
   "metadata": {},
   "outputs": [],
   "source": [
    "import os"
   ]
  },
  {
   "cell_type": "code",
   "execution_count": 59,
   "id": "cad9ebb4",
   "metadata": {},
   "outputs": [],
   "source": [
    "def scrape_topic(topic_url, path):\n",
    "    if os.path.exists(path):\n",
    "        print(\"The file {} already exists. Skipping...\".format(path))\n",
    "        return\n",
    "    topic_df = get_topic_repos(get_topic_page(topic_url))\n",
    "    topic_df.to_csv(path, index=None)\n",
    "    "
   ]
  },
  {
   "cell_type": "code",
   "execution_count": null,
   "id": "c94e959a",
   "metadata": {},
   "outputs": [],
   "source": []
  },
  {
   "cell_type": "markdown",
   "id": "5f077f0b",
   "metadata": {},
   "source": [
    "##### Putting it all together\n",
    "1. We have a function to get the list of topics\n",
    "2. We have a function to create a CSV file for scraped repos from a topics page\n",
    "3. Let's create a function to put them together"
   ]
  },
  {
   "cell_type": "code",
   "execution_count": 65,
   "id": "09e658b3",
   "metadata": {},
   "outputs": [],
   "source": [
    "def scrape_topics_repos():\n",
    "    print(\"Scrapping list of topics\")\n",
    "    topics_df=scrape_topics()\n",
    "    \n",
    "    os.makedirs('data',exist_ok=True)\n",
    "    for index, row in topics_df.iterrows():\n",
    "        print(\"Scrapping top repositories of {}\".format(row['title']))\n",
    "        scrape_topic(row['url'],'data/{}.csv'.format(row['title']))"
   ]
  },
  {
   "cell_type": "code",
   "execution_count": 68,
   "id": "44bae19e",
   "metadata": {},
   "outputs": [
    {
     "name": "stdout",
     "output_type": "stream",
     "text": [
      "Scrapping list of topics\n",
      "Scrapping top repositories of 3D\n",
      "Scrapping top repositories of Ajax\n",
      "Scrapping top repositories of Algorithm\n",
      "Scrapping top repositories of Amp\n",
      "Scrapping top repositories of Android\n",
      "Scrapping top repositories of Angular\n",
      "Scrapping top repositories of Ansible\n",
      "Scrapping top repositories of API\n",
      "Scrapping top repositories of Arduino\n",
      "Scrapping top repositories of ASP.NET\n",
      "Scrapping top repositories of Atom\n",
      "Scrapping top repositories of Awesome Lists\n",
      "Scrapping top repositories of Amazon Web Services\n",
      "Scrapping top repositories of Azure\n",
      "Scrapping top repositories of Babel\n",
      "Scrapping top repositories of Bash\n",
      "Scrapping top repositories of Bitcoin\n",
      "Scrapping top repositories of Bootstrap\n",
      "Scrapping top repositories of Bot\n",
      "Scrapping top repositories of C\n",
      "Scrapping top repositories of Chrome\n",
      "Scrapping top repositories of Chrome extension\n",
      "Scrapping top repositories of Command line interface\n",
      "Scrapping top repositories of Clojure\n",
      "Scrapping top repositories of Code quality\n",
      "Scrapping top repositories of Code review\n",
      "Scrapping top repositories of Compiler\n",
      "Scrapping top repositories of Continuous integration\n",
      "Scrapping top repositories of COVID-19\n",
      "Scrapping top repositories of C++\n"
     ]
    }
   ],
   "source": [
    "scrape_topics_repos()"
   ]
  },
  {
   "cell_type": "code",
   "execution_count": null,
   "id": "2f91c9ba",
   "metadata": {},
   "outputs": [],
   "source": []
  }
 ],
 "metadata": {
  "kernelspec": {
   "display_name": "Python 3 (ipykernel)",
   "language": "python",
   "name": "python3"
  },
  "language_info": {
   "codemirror_mode": {
    "name": "ipython",
    "version": 3
   },
   "file_extension": ".py",
   "mimetype": "text/x-python",
   "name": "python",
   "nbconvert_exporter": "python",
   "pygments_lexer": "ipython3",
   "version": "3.9.12"
  }
 },
 "nbformat": 4,
 "nbformat_minor": 5
}
