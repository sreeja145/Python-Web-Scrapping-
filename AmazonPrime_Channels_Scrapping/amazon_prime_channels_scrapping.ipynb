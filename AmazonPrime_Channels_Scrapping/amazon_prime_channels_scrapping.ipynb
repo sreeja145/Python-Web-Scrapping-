{
 "cells": [
  {
   "cell_type": "code",
   "execution_count": null,
   "id": "abdc068f",
   "metadata": {},
   "outputs": [],
   "source": [
    "!pip install requests"
   ]
  },
  {
   "cell_type": "code",
   "execution_count": 1,
   "id": "6561f79f",
   "metadata": {},
   "outputs": [],
   "source": [
    "import requests"
   ]
  },
  {
   "cell_type": "code",
   "execution_count": 2,
   "id": "8a2ffdd2",
   "metadata": {},
   "outputs": [],
   "source": [
    "headers={'User-Agent':'Mozilla/5.0 (Windows NT 10.0; Win64; x64) AppleWebKit/537.36 (KHTML, like Gecko) Chrome/106.0.0.0 Safari/537.36'}"
   ]
  },
  {
   "cell_type": "code",
   "execution_count": 3,
   "id": "acd4df33",
   "metadata": {},
   "outputs": [],
   "source": [
    "channels_url=\"https://www.primevideo.com/storefront/channels\"\n"
   ]
  },
  {
   "cell_type": "code",
   "execution_count": 4,
   "id": "66682f9a",
   "metadata": {},
   "outputs": [],
   "source": [
    "response=requests.get(channels_url,headers=headers)"
   ]
  },
  {
   "cell_type": "code",
   "execution_count": 5,
   "id": "aae31b1b",
   "metadata": {},
   "outputs": [
    {
     "name": "stdout",
     "output_type": "stream",
     "text": [
      "200\n"
     ]
    }
   ],
   "source": [
    "print(response.status_code)"
   ]
  },
  {
   "cell_type": "code",
   "execution_count": 6,
   "id": "f9844934",
   "metadata": {},
   "outputs": [],
   "source": [
    "page_contents=response.text"
   ]
  },
  {
   "cell_type": "code",
   "execution_count": null,
   "id": "7cdd7ef3",
   "metadata": {},
   "outputs": [],
   "source": [
    "!pip install beautifulsoup4"
   ]
  },
  {
   "cell_type": "code",
   "execution_count": 7,
   "id": "b87a26b1",
   "metadata": {},
   "outputs": [],
   "source": [
    "from bs4 import BeautifulSoup"
   ]
  },
  {
   "cell_type": "code",
   "execution_count": 8,
   "id": "ac7dcffb",
   "metadata": {},
   "outputs": [],
   "source": [
    "doc=BeautifulSoup(page_contents,'html.parser')"
   ]
  },
  {
   "cell_type": "code",
   "execution_count": 9,
   "id": "d8d99ce5",
   "metadata": {},
   "outputs": [],
   "source": [
    "mp_c='_1BVMs4'\n",
    "most_popular_channels=doc.find_all('span',{'class':mp_c})\n"
   ]
  },
  {
   "cell_type": "code",
   "execution_count": 10,
   "id": "63e9d141",
   "metadata": {
    "scrolled": true
   },
   "outputs": [
    {
     "data": {
      "text/plain": [
       "6"
      ]
     },
     "execution_count": 10,
     "metadata": {},
     "output_type": "execute_result"
    }
   ],
   "source": [
    "len(most_popular_channels)"
   ]
  },
  {
   "cell_type": "code",
   "execution_count": null,
   "id": "4c21e908",
   "metadata": {},
   "outputs": [],
   "source": [
    "channel_title=[]\n",
    "for row in most_popular_channels:\n",
    "    channel_title.append(row.find(\"img\")[\"alt\"])\n",
    "channel_title"
   ]
  },
  {
   "cell_type": "code",
   "execution_count": 16,
   "id": "277acce3",
   "metadata": {},
   "outputs": [],
   "source": [
    "count_collection=doc.find_all('div',{'class':'_10rDDN u-collection tst-collection'})"
   ]
  },
  {
   "cell_type": "code",
   "execution_count": null,
   "id": "6de9a838",
   "metadata": {},
   "outputs": [],
   "source": [
    "len(count_collection)"
   ]
  },
  {
   "cell_type": "code",
   "execution_count": null,
   "id": "c1cefd8c",
   "metadata": {
    "scrolled": false
   },
   "outputs": [],
   "source": [
    "count_collection[2].find(\"img\")[\"alt\"]"
   ]
  },
  {
   "cell_type": "code",
   "execution_count": 11,
   "id": "1b24da49",
   "metadata": {},
   "outputs": [],
   "source": [
    "def series_c(collection):\n",
    "    total_series=collection.find_all('div',{'class':'jxBPRE'})\n",
    "    series_head=collection.find_all('div',{'class':'_1_hBiq _1SmB89 tst-packshot tst-packshot-link'})\n",
    "    names_series=[]\n",
    "    for series in series_head:\n",
    "        names_series.append(series.find('a')[\"aria-label\"])\n",
    "    return (names_series)"
   ]
  },
  {
   "cell_type": "code",
   "execution_count": 12,
   "id": "5ff24ccc",
   "metadata": {},
   "outputs": [],
   "source": [
    "channels=[]\n",
    "series=[]"
   ]
  },
  {
   "cell_type": "code",
   "execution_count": 13,
   "id": "4063d265",
   "metadata": {},
   "outputs": [],
   "source": [
    "channel_series_dict={'channel':channels,\n",
    "                        'series':series}"
   ]
  },
  {
   "cell_type": "code",
   "execution_count": 14,
   "id": "54bccda0",
   "metadata": {},
   "outputs": [],
   "source": [
    "def channel_coll(collections):\n",
    "    title=collections.find('img')[\"alt\"]\n",
    "    series_names=series_c(collections)\n",
    "    channels.append(title)\n",
    "    series.append(series_names)\n",
    "    "
   ]
  },
  {
   "cell_type": "code",
   "execution_count": 17,
   "id": "6d193c83",
   "metadata": {},
   "outputs": [],
   "source": [
    "for col in count_collection:\n",
    "    channel_coll(col)"
   ]
  },
  {
   "cell_type": "code",
   "execution_count": 18,
   "id": "4ae3b06d",
   "metadata": {},
   "outputs": [
    {
     "data": {
      "text/plain": [
       "[['Naked & Afraid of Love - Season 1',\n",
       "  'Special Operations: India - Season 1',\n",
       "  'Naked and Afraid - Season 8',\n",
       "  'Secrets Of Sinauli - Season 1',\n",
       "  'Mission Frontline with Farhan Akhtar - Season 1',\n",
       "  'Big Cat Tales - Season 2',\n",
       "  'Anni: The Honeymoon Murder - Season 1',\n",
       "  '21 Sarfarosh: Saragarhi 1897 - Season 1',\n",
       "  'Into The Wild with Bear Grylls & Ajay Devgn - Season 1'],\n",
       " ['Mismatch(Hindi) - Season 1',\n",
       "  'Indu(Hindi) - Season 1',\n",
       "  'Paap (Hindi) - Season 1',\n",
       "  'Charitraheen (Hindi) - Season 1',\n",
       "  'Hello(Hindi) - Season 1',\n",
       "  'Byomkesh (Bengali) - Season 1',\n",
       "  'Paap (Bengali) - Season 1',\n",
       "  'Madhushala(Hindi) - Season 1',\n",
       "  'Murder In The Hills (Bengali) - Season 1'],\n",
       " ['The Girlfriend Experience, Season 1 [Ultra HD]',\n",
       "  'Spartacus: Blood and Sand Season 1',\n",
       "  'Power - Season 1',\n",
       "  'Hiccups & Hookups Season 1 (Hindi)',\n",
       "  'Black Sails: Saison 1',\n",
       "  'Normal People Season 1',\n",
       "  'Jugaadistan Season 1',\n",
       "  'The Pier Season 1',\n",
       "  'Love Life - Season 1'],\n",
       " ['Bajirao Mastani',\n",
       "  'Goliyon Ki Raasleela Ram-Leela',\n",
       "  'Rockstar',\n",
       "  'Cocktail',\n",
       "  'College Of Sex',\n",
       "  'English Vinglish',\n",
       "  'Love Aaj Kal',\n",
       "  'Sanam Teri Kasam',\n",
       "  'Ra.One'],\n",
       " ['Poison Rose',\n",
       "  'Air Strike',\n",
       "  'Looking Glass',\n",
       "  'Skins Season 1',\n",
       "  'Penance Season 1',\n",
       "  'The Heavy Water War Season 1',\n",
       "  'Clique Season 1',\n",
       "  'Heart Beat Season 1',\n",
       "  'Snow Angels Season 1'],\n",
       " ['S3. Wildlife Defenders',\n",
       "  'S1.Luxury Travel Show',\n",
       "  'The Last Great Climb',\n",
       "  'Travelling with the Jinju',\n",
       "  'Chasing the Jetstream',\n",
       "  'Moonwalk One',\n",
       "  'Mukden Palace Shenyang City Liaoning China',\n",
       "  'Raphael: A Sensitive Genius',\n",
       "  'Lessons in Dissent']]"
      ]
     },
     "execution_count": 18,
     "metadata": {},
     "output_type": "execute_result"
    }
   ],
   "source": [
    "series"
   ]
  },
  {
   "cell_type": "code",
   "execution_count": 19,
   "id": "0e49ccc5",
   "metadata": {},
   "outputs": [
    {
     "data": {
      "text/plain": [
       "{'channel': ['discovery+',\n",
       "  'hoichoi',\n",
       "  'Lionsgate Play',\n",
       "  'Eros Now',\n",
       "  'VROTT',\n",
       "  'DocuBay'],\n",
       " 'series': [['Naked & Afraid of Love - Season 1',\n",
       "   'Special Operations: India - Season 1',\n",
       "   'Naked and Afraid - Season 8',\n",
       "   'Secrets Of Sinauli - Season 1',\n",
       "   'Mission Frontline with Farhan Akhtar - Season 1',\n",
       "   'Big Cat Tales - Season 2',\n",
       "   'Anni: The Honeymoon Murder - Season 1',\n",
       "   '21 Sarfarosh: Saragarhi 1897 - Season 1',\n",
       "   'Into The Wild with Bear Grylls & Ajay Devgn - Season 1'],\n",
       "  ['Mismatch(Hindi) - Season 1',\n",
       "   'Indu(Hindi) - Season 1',\n",
       "   'Paap (Hindi) - Season 1',\n",
       "   'Charitraheen (Hindi) - Season 1',\n",
       "   'Hello(Hindi) - Season 1',\n",
       "   'Byomkesh (Bengali) - Season 1',\n",
       "   'Paap (Bengali) - Season 1',\n",
       "   'Madhushala(Hindi) - Season 1',\n",
       "   'Murder In The Hills (Bengali) - Season 1'],\n",
       "  ['The Girlfriend Experience, Season 1 [Ultra HD]',\n",
       "   'Spartacus: Blood and Sand Season 1',\n",
       "   'Power - Season 1',\n",
       "   'Hiccups & Hookups Season 1 (Hindi)',\n",
       "   'Black Sails: Saison 1',\n",
       "   'Normal People Season 1',\n",
       "   'Jugaadistan Season 1',\n",
       "   'The Pier Season 1',\n",
       "   'Love Life - Season 1'],\n",
       "  ['Bajirao Mastani',\n",
       "   'Goliyon Ki Raasleela Ram-Leela',\n",
       "   'Rockstar',\n",
       "   'Cocktail',\n",
       "   'College Of Sex',\n",
       "   'English Vinglish',\n",
       "   'Love Aaj Kal',\n",
       "   'Sanam Teri Kasam',\n",
       "   'Ra.One'],\n",
       "  ['Poison Rose',\n",
       "   'Air Strike',\n",
       "   'Looking Glass',\n",
       "   'Skins Season 1',\n",
       "   'Penance Season 1',\n",
       "   'The Heavy Water War Season 1',\n",
       "   'Clique Season 1',\n",
       "   'Heart Beat Season 1',\n",
       "   'Snow Angels Season 1'],\n",
       "  ['S3. Wildlife Defenders',\n",
       "   'S1.Luxury Travel Show',\n",
       "   'The Last Great Climb',\n",
       "   'Travelling with the Jinju',\n",
       "   'Chasing the Jetstream',\n",
       "   'Moonwalk One',\n",
       "   'Mukden Palace Shenyang City Liaoning China',\n",
       "   'Raphael: A Sensitive Genius',\n",
       "   'Lessons in Dissent']]}"
      ]
     },
     "execution_count": 19,
     "metadata": {},
     "output_type": "execute_result"
    }
   ],
   "source": [
    "channel_series_dict"
   ]
  },
  {
   "cell_type": "code",
   "execution_count": 20,
   "id": "0b82cdd8",
   "metadata": {},
   "outputs": [],
   "source": [
    "import os"
   ]
  },
  {
   "cell_type": "code",
   "execution_count": 22,
   "id": "6a06eb32",
   "metadata": {},
   "outputs": [],
   "source": [
    "import pandas as pd"
   ]
  },
  {
   "cell_type": "code",
   "execution_count": 23,
   "id": "a55178b4",
   "metadata": {},
   "outputs": [],
   "source": [
    "channel_series_df=pd.DataFrame(channel_series_dict)"
   ]
  },
  {
   "cell_type": "code",
   "execution_count": 24,
   "id": "dba3d9d0",
   "metadata": {},
   "outputs": [],
   "source": [
    "channel_series_df.to_csv('amazon_channels.csv',index=None)"
   ]
  }
 ],
 "metadata": {
  "kernelspec": {
   "display_name": "Python 3 (ipykernel)",
   "language": "python",
   "name": "python3"
  },
  "language_info": {
   "codemirror_mode": {
    "name": "ipython",
    "version": 3
   },
   "file_extension": ".py",
   "mimetype": "text/x-python",
   "name": "python",
   "nbconvert_exporter": "python",
   "pygments_lexer": "ipython3",
   "version": "3.9.12"
  }
 },
 "nbformat": 4,
 "nbformat_minor": 5
}
